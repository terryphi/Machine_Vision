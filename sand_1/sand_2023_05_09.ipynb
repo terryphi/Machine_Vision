{
 "cells": [
  {
   "cell_type": "code",
   "execution_count": 1,
   "metadata": {},
   "outputs": [
    {
     "name": "stdout",
     "output_type": "stream",
     "text": [
      "pygame 2.4.0 (SDL 2.26.4, Python 3.8.3)\n",
      "Hello from the pygame community. https://www.pygame.org/contribute.html\n"
     ]
    }
   ],
   "source": [
    "import pygame"
   ]
  },
  {
   "cell_type": "code",
   "execution_count": 23,
   "metadata": {},
   "outputs": [],
   "source": [
    "from pygame.locals import *\n",
    "from OpenGL.GL import *\n",
    "from OpenGL.GLUT import *\n",
    "from OpenGL.GLU import *\n",
    "import random\n",
    "import numpy as np\n",
    "import cv2\n",
    "\n",
    "# Sphere properties\n",
    "sphere_radius = 0.05  # 5cm radius\n",
    "\n",
    "# Generate a random position in the 1m^3 space\n",
    "pos = [random.random(), random.random(), random.random()]\n",
    "\n",
    "# Initialize Pygame\n",
    "pygame.init()\n",
    "display = (800, 600)\n",
    "pygame.display.set_mode(display, DOUBLEBUF | OPENGL)\n",
    "\n",
    "# Initialize the GL perspective\n",
    "gluPerspective(45, (display[0] / display[1]), 0.1, 50.0)\n",
    "glTranslatef(-0.5, -0.5, -1.5)  # Offset the camera so that the space is in view\n",
    "\n",
    "glPushMatrix()\n",
    "glTranslatef(*pos)\n",
    "#draw a red triangle\n",
    "#the above but draw at the bottom left\n",
    "glBegin(GL_TRIANGLES)\n",
    "glColor3f(0.0, 1.0, 0.0)\n",
    "glVertex3f(0.0, 0.0, 0.0)\n",
    "glVertex3f(-0.5, 0.0, 0.0)\n",
    "glVertex3f(0.0, 0.5, 0.0)\n",
    "glEnd()\n",
    "\n",
    "\n",
    "glPopMatrix()\n",
    "\n",
    "# Update the display\n",
    "pygame.display.flip()\n",
    "\n",
    "# Save the image\n",
    "#save the image as \"img.png\"\n",
    "glReadBuffer(GL_FRONT)\n",
    "data = glReadPixels(0, 0, 800, 600, GL_RGB, GL_UNSIGNED_BYTE)\n",
    "image = np.frombuffer(data, dtype=np.uint8).reshape(600, 800, 3)\n",
    "image = np.flipud(image)\n",
    "cv2.imwrite(\"img.png\", image)\n",
    "\n",
    "pygame.quit()\n"
   ]
  },
  {
   "cell_type": "code",
   "execution_count": null,
   "metadata": {},
   "outputs": [],
   "source": []
  }
 ],
 "metadata": {
  "kernelspec": {
   "display_name": "base",
   "language": "python",
   "name": "python3"
  },
  "language_info": {
   "codemirror_mode": {
    "name": "ipython",
    "version": 3
   },
   "file_extension": ".py",
   "mimetype": "text/x-python",
   "name": "python",
   "nbconvert_exporter": "python",
   "pygments_lexer": "ipython3",
   "version": "3.8.3"
  },
  "orig_nbformat": 4
 },
 "nbformat": 4,
 "nbformat_minor": 2
}
